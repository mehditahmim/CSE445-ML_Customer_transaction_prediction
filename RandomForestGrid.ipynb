{
 "cells": [
  {
   "cell_type": "markdown",
   "metadata": {},
   "source": [
    "<h1> Santander by Random Forest </h1>"
   ]
  },
  {
   "cell_type": "code",
   "execution_count": 3,
   "metadata": {},
   "outputs": [],
   "source": [
    "import pandas as pd \n",
    "from sklearn.ensemble import RandomForestClassifier\n",
    "import numpy as np\n",
    "from sklearn.model_selection import train_test_split\n",
    "from sklearn.metrics import accuracy_score\n",
    "from sklearn.metrics import roc_curve, auc\n",
    "from sklearn.preprocessing import StandardScaler\n",
    "from scipy import stats\n",
    "from matplotlib.legend_handler import HandlerLine2D\n",
    "import matplotlib.pyplot as plt\n",
    "from sklearn.preprocessing import MinMaxScaler\n",
    "import scipy\n",
    "from sklearn.model_selection import KFold\n",
    "from sklearn.model_selection import  StratifiedKFold"
   ]
  },
  {
   "cell_type": "code",
   "execution_count": 4,
   "metadata": {},
   "outputs": [],
   "source": [
    "def read_input():\n",
    "    #Basic Input\n",
    "    data = pd.read_csv(\"train.csv\", header=0) \n",
    "    data = data.sample(frac=1).reset_index(drop=True)\n",
    "    #get the 2d array from pandas\n",
    "    np_data= data.values\n",
    "    \n",
    "    labels = np_data[:,1].astype('int')\n",
    "    train= np_data[:,2:].astype(np.float32)\n",
    "    print(\"Train Shape\", train.shape)\n",
    "    test = pd.read_csv(\"test.csv\", header=0).values \n",
    "    ids = test[:,0]\n",
    "    test= test[:,1:].astype(np.float32)\n",
    "    print(\"Test Shape\", test.shape)\n",
    "    return train,labels, test, ids\n",
    "\n",
    "\n",
    "def remove_outlier(train, labels):\n",
    "    z = np.abs(stats.zscore(train))\n",
    "    threshold = 3\n",
    "    x,y=np.where(z > 3)\n",
    "    lst= np.unique(x)\n",
    "    all_indices = [i for i in range(0, train.shape[0])]\n",
    "    non_outlier_indices = list(set(all_indices)-set(lst))\n",
    "    train2 = train[non_outlier_indices,:]\n",
    "    labels2 = labels[non_outlier_indices]\n",
    "    return train2, labels2\n",
    "\n",
    "def min_max_normalize(train):\n",
    "    scaler = MinMaxScaler()\n",
    "    scaler.fit(train)\n",
    "    return scaler\n",
    "\n",
    "#Append few extra features/columns\n",
    "def append_bin_features(train):\n",
    "    min_col = np.min(train, axis=1).reshape((-1,1))\n",
    "    max_col = np.max(train, axis=1).reshape((-1,1))\n",
    "    mean_col = np.mean(train, axis=1).reshape((-1,1))\n",
    "    std_col = np.std(train, axis=1).reshape((-1,1))\n",
    "    sum_col = np.sum(train, axis=1).reshape((-1,1))\n",
    "    med_col = np.median(train, axis=1).reshape((-1,1))\n",
    "    \n",
    "\n",
    "    new_train = train.copy()\n",
    "    \n",
    "    new_train=np.column_stack((new_train, min_col))\n",
    "    new_train=np.column_stack((new_train, max_col))\n",
    "    new_train=np.column_stack((new_train, mean_col))\n",
    "    new_train=np.column_stack((new_train, std_col))\n",
    "    new_train=np.column_stack((new_train, sum_col))\n",
    "    new_train=np.column_stack((new_train, med_col))\n",
    "    \n",
    "    bin_train = train.copy()\n",
    "    scaler = MinMaxScaler()\n",
    "    scaler.fit(bin_train)\n",
    "    min_max_train = np.round(scaler.transform(bin_train) * 100.0)\n",
    "    \n",
    "    scaler2 = MinMaxScaler()\n",
    "    scaler2.fit(min_max_train)\n",
    "    min_max_train = scaler2.transform(min_max_train)\n",
    "    \n",
    "    new_train=np.column_stack((new_train, min_max_train))\n",
    "    return new_train\n",
    "\n",
    "def classify(X_train, X_test, y_train, y_test, nest=25, max_depth=15, min_samples_leaf=80,max_features='auto',class_weight={0:1,1:10.5}):\n",
    "    classifier=RandomForestClassifier(n_estimators=nest, max_depth=max_depth, min_samples_leaf=min_samples_leaf,max_features=max_features, class_weight=class_weight,n_jobs=-1,verbose=False)\n",
    "    classifier.fit(X_train, y_train)\n",
    "    return classifier\n",
    "\n",
    "def get_auc(predictions, actual):\n",
    "    false_positive_rate, true_positive_rate, thresholds = roc_curve(actual, predictions)\n",
    "    roc_auc = auc(false_positive_rate, true_positive_rate)\n",
    "    return roc_auc"
   ]
  },
  {
   "cell_type": "code",
   "execution_count": 5,
   "metadata": {},
   "outputs": [
    {
     "name": "stdout",
     "output_type": "stream",
     "text": [
      "Train Shape (200000, 200)\n",
      "Test Shape (200000, 200)\n"
     ]
    }
   ],
   "source": [
    "#Reading Input\n",
    "org_train, org_labels, org_test,ids = read_input()"
   ]
  },
  {
   "cell_type": "code",
   "execution_count": 9,
   "metadata": {},
   "outputs": [
    {
     "name": "stdout",
     "output_type": "stream",
     "text": [
      "Training and Test AUC: 0.5 0.5\n"
     ]
    },
    {
     "data": {
      "text/plain": [
       "RandomForestClassifier(bootstrap=True, class_weight={0: 1, 1: 1},\n",
       "            criterion='gini', max_depth=15, max_features='auto',\n",
       "            max_leaf_nodes=None, min_impurity_decrease=0.0,\n",
       "            min_impurity_split=None, min_samples_leaf=80,\n",
       "            min_samples_split=2, min_weight_fraction_leaf=0.0,\n",
       "            n_estimators=5, n_jobs=-1, oob_score=False, random_state=None,\n",
       "            verbose=False, warm_start=False)"
      ]
     },
     "execution_count": 9,
     "metadata": {},
     "output_type": "execute_result"
    }
   ],
   "source": [
    "\n",
    "#try a basic random forest and see how does it work\n",
    "#Split the data into train and test (validation)\n",
    "X_train, X_test, y_train, y_test = train_test_split(org_train, org_labels, test_size=0.20)\n",
    "\n",
    "classifier= classify(X_train, X_test, y_train, y_test, nest =5, class_weight={0:1,1:1})\n",
    "train_predictions  =  classifier.predict(X_train)\n",
    "roc_auc_tr= get_auc(train_predictions, y_train)\n",
    "\n",
    "validation_predictions = classifier.predict(X_test)\n",
    "roc_auc_test = get_auc(validation_predictions,y_test)\n",
    "    \n",
    "print(\"Training and Test AUC:\", roc_auc_tr, roc_auc_test)\n",
    "classifier\n"
   ]
  },
  {
   "cell_type": "markdown",
   "metadata": {},
   "source": [
    "<h3> Basic Random Forest is working Randomly, adding outlier removal and Normalization </h3>"
   ]
  },
  {
   "cell_type": "code",
   "execution_count": 10,
   "metadata": {},
   "outputs": [],
   "source": [
    "train,labels= remove_outlier(org_train, org_labels)\n",
    "scaler= min_max_normalize(np.concatenate((train, org_test), axis=0))\n",
    "train = append_bin_features(scaler.transform(train))"
   ]
  },
  {
   "cell_type": "code",
   "execution_count": 11,
   "metadata": {},
   "outputs": [
    {
     "name": "stdout",
     "output_type": "stream",
     "text": [
      "Training and Test AUC: 0.5 0.5\n"
     ]
    },
    {
     "data": {
      "text/plain": [
       "RandomForestClassifier(bootstrap=True, class_weight={0: 1, 1: 1},\n",
       "            criterion='gini', max_depth=15, max_features='auto',\n",
       "            max_leaf_nodes=None, min_impurity_decrease=0.0,\n",
       "            min_impurity_split=None, min_samples_leaf=80,\n",
       "            min_samples_split=2, min_weight_fraction_leaf=0.0,\n",
       "            n_estimators=5, n_jobs=-1, oob_score=False, random_state=None,\n",
       "            verbose=False, warm_start=False)"
      ]
     },
     "execution_count": 11,
     "metadata": {},
     "output_type": "execute_result"
    }
   ],
   "source": [
    "X_train, X_test, y_train, y_test = train_test_split(train, labels, test_size=0.20)\n",
    "classifier= classify(X_train, X_test, y_train, y_test, nest =5, class_weight={0:1,1:1})\n",
    "train_predictions  =  classifier.predict(X_train)\n",
    "roc_auc_tr= get_auc(train_predictions, y_train)\n",
    "validation_predictions = classifier.predict(X_test)\n",
    "roc_auc_test = get_auc(validation_predictions,y_test)\n",
    "    \n",
    "print(\"Training and Test AUC:\", roc_auc_tr, roc_auc_test)\n",
    "classifier\n"
   ]
  },
  {
   "cell_type": "markdown",
   "metadata": {},
   "source": [
    "<h2> Target 0 is much more frequent than 1, so let's not have equal class weight</h2>"
   ]
  },
  {
   "cell_type": "code",
   "execution_count": 15,
   "metadata": {},
   "outputs": [
    {
     "data": {
      "image/png": "[encoded data removed]",
      "text/plain": [
       "<Figure size 432x288 with 1 Axes>"
      ]
     },
     "metadata": {
      "needs_background": "light"
     },
     "output_type": "display_data"
    }
   ],
   "source": [
    "X_train, X_test, y_train, y_test = train_test_split(train, labels, test_size=0.20)\n",
    "weights = [1, 2, 3, 4, 5,6,7,8,9,10,11,12,15,17, 20]\n",
    "train_results=[]\n",
    "test_results=[]\n",
    "for w in weights:\n",
    "    classifier= classify(X_train, X_test, y_train, y_test,class_weight = {0:1, 1:w})\n",
    "    train_predictions  =  classifier.predict(X_train)\n",
    "    roc_auc_tr= get_auc(train_predictions, y_train)\n",
    "    train_results.append(roc_auc_tr)\n",
    "    \n",
    "    validation_predictions = classifier.predict(X_test)\n",
    "    roc_auc_test = get_auc(validation_predictions,y_test)\n",
    "    test_results.append(roc_auc_test)\n",
    "\n",
    "\n",
    "line1, = plt.plot(weights, train_results, 'b', label='Train AUC')\n",
    "line2, = plt.plot(weights, test_results, 'r', label='Validation AUC')\n",
    "plt.legend(handler_map={line1: HandlerLine2D(numpoints=2)})\n",
    "plt.ylabel('AUC score')\n",
    "plt.xlabel('Class Weight')\n",
    "plt.show()\n"
   ]
  },
  {
   "cell_type": "markdown",
   "metadata": {},
   "source": []
  },
  {
   "cell_type": "markdown",
   "metadata": {},
   "source": [
    "<h2> Tune Number of Trees in Random Forest (Also known as nestimator in short nest)</h2>\n"
   ]
  },
  {
   "cell_type": "code",
   "execution_count": 118,
   "metadata": {},
   "outputs": [
    {
     "name": "stderr",
     "output_type": "stream",
     "text": [
      "[Parallel(n_jobs=-1)]: Using backend ThreadingBackend with 12 concurrent workers.\n",
      "[Parallel(n_jobs=-1)]: Done   1 out of   1 | elapsed:    2.8s finished\n",
      "[Parallel(n_jobs=1)]: Using backend SequentialBackend with 1 concurrent workers.\n",
      "[Parallel(n_jobs=1)]: Done   1 out of   1 | elapsed:    0.0s finished\n",
      "[Parallel(n_jobs=1)]: Using backend SequentialBackend with 1 concurrent workers.\n",
      "[Parallel(n_jobs=1)]: Done   1 out of   1 | elapsed:    0.0s finished\n"
     ]
    },
    {
     "name": "stdout",
     "output_type": "stream",
     "text": [
      "Number of Trees 1\n"
     ]
    },
    {
     "name": "stderr",
     "output_type": "stream",
     "text": [
      "[Parallel(n_jobs=-1)]: Using backend ThreadingBackend with 12 concurrent workers.\n",
      "[Parallel(n_jobs=-1)]: Done  10 out of  16 | elapsed:   12.3s remaining:    7.4s\n",
      "[Parallel(n_jobs=-1)]: Done  16 out of  16 | elapsed:   16.4s finished\n",
      "[Parallel(n_jobs=12)]: Using backend ThreadingBackend with 12 concurrent workers.\n",
      "[Parallel(n_jobs=12)]: Done  10 out of  16 | elapsed:    0.2s remaining:    0.1s\n",
      "[Parallel(n_jobs=12)]: Done  16 out of  16 | elapsed:    0.3s finished\n",
      "[Parallel(n_jobs=12)]: Using backend ThreadingBackend with 12 concurrent workers.\n",
      "[Parallel(n_jobs=12)]: Done  10 out of  16 | elapsed:    0.1s remaining:    0.1s\n",
      "[Parallel(n_jobs=12)]: Done  16 out of  16 | elapsed:    0.1s finished\n",
      "[Parallel(n_jobs=-1)]: Using backend ThreadingBackend with 12 concurrent workers.\n"
     ]
    },
    {
     "name": "stdout",
     "output_type": "stream",
     "text": [
      "Number of Trees 16\n"
     ]
    },
    {
     "name": "stderr",
     "output_type": "stream",
     "text": [
      "[Parallel(n_jobs=-1)]: Done  32 out of  32 | elapsed:   31.9s finished\n",
      "[Parallel(n_jobs=12)]: Using backend ThreadingBackend with 12 concurrent workers.\n",
      "[Parallel(n_jobs=12)]: Done  32 out of  32 | elapsed:    0.6s finished\n",
      "[Parallel(n_jobs=12)]: Using backend ThreadingBackend with 12 concurrent workers.\n",
      "[Parallel(n_jobs=12)]: Done  32 out of  32 | elapsed:    0.2s finished\n",
      "[Parallel(n_jobs=-1)]: Using backend ThreadingBackend with 12 concurrent workers.\n"
     ]
    },
    {
     "name": "stdout",
     "output_type": "stream",
     "text": [
      "Number of Trees 32\n"
     ]
    },
    {
     "name": "stderr",
     "output_type": "stream",
     "text": [
      "[Parallel(n_jobs=-1)]: Done  26 tasks      | elapsed:   34.7s\n",
      "[Parallel(n_jobs=-1)]: Done  64 out of  64 | elapsed:  1.1min finished\n",
      "[Parallel(n_jobs=12)]: Using backend ThreadingBackend with 12 concurrent workers.\n",
      "[Parallel(n_jobs=12)]: Done  26 tasks      | elapsed:    0.5s\n",
      "[Parallel(n_jobs=12)]: Done  64 out of  64 | elapsed:    1.1s finished\n",
      "[Parallel(n_jobs=12)]: Using backend ThreadingBackend with 12 concurrent workers.\n",
      "[Parallel(n_jobs=12)]: Done  26 tasks      | elapsed:    0.2s\n",
      "[Parallel(n_jobs=12)]: Done  64 out of  64 | elapsed:    0.3s finished\n"
     ]
    },
    {
     "name": "stdout",
     "output_type": "stream",
     "text": [
      "Number of Trees 64\n"
     ]
    },
    {
     "name": "stderr",
     "output_type": "stream",
     "text": [
      "[Parallel(n_jobs=-1)]: Using backend ThreadingBackend with 12 concurrent workers.\n",
      "[Parallel(n_jobs=-1)]: Done  26 tasks      | elapsed:   34.6s\n",
      "[Parallel(n_jobs=-1)]: Done 100 out of 100 | elapsed:  1.7min finished\n",
      "[Parallel(n_jobs=12)]: Using backend ThreadingBackend with 12 concurrent workers.\n",
      "[Parallel(n_jobs=12)]: Done  26 tasks      | elapsed:    0.5s\n",
      "[Parallel(n_jobs=12)]: Done 100 out of 100 | elapsed:    1.7s finished\n",
      "[Parallel(n_jobs=12)]: Using backend ThreadingBackend with 12 concurrent workers.\n",
      "[Parallel(n_jobs=12)]: Done  26 tasks      | elapsed:    0.2s\n"
     ]
    },
    {
     "name": "stdout",
     "output_type": "stream",
     "text": [
      "Number of Trees 100\n"
     ]
    },
    {
     "name": "stderr",
     "output_type": "stream",
     "text": [
      "[Parallel(n_jobs=12)]: Done 100 out of 100 | elapsed:    0.4s finished\n"
     ]
    },
    {
     "data": {
      "image/png": "[encoded data removed]",
      "text/plain": [
       "<Figure size 432x288 with 1 Axes>"
      ]
     },
     "metadata": {
      "needs_background": "light"
     },
     "output_type": "display_data"
    }
   ],
   "source": [
    "X_train, X_test, y_train, y_test = train_test_split(train, labels, test_size=0.20)\n",
    "n_estimators = [1, 16, 32, 64, 100]\n",
    "train_results=[]\n",
    "test_results=[]\n",
    "for nest in n_estimators:\n",
    "    classifier= classify(X_train, X_test, y_train, y_test,nest)\n",
    "    train_predictions  =  classifier.predict(X_train)\n",
    "    roc_auc_tr= get_auc(train_predictions, y_train)\n",
    "    train_results.append(roc_auc_tr)\n",
    "    \n",
    "    validation_predictions = classifier.predict(X_test)\n",
    "    roc_auc_test = get_auc(validation_predictions,y_test)\n",
    "    test_results.append(roc_auc_test)\n",
    "    print(nest)\n",
    "\n",
    "\n",
    "line1, = plt.plot(n_estimators, train_results, 'b', label='Train AUC')\n",
    "line2, = plt.plot(n_estimators, test_results, 'r', label='Validation AUC')\n",
    "plt.legend(handler_map={line1: HandlerLine2D(numpoints=2)})\n",
    "plt.ylabel('AUC score')\n",
    "plt.xlabel('n_estimators')\n",
    "plt.show()\n"
   ]
  },
  {
   "cell_type": "markdown",
   "metadata": {},
   "source": [
    "<h2> Tune Max Depth of Tree </h2>"
   ]
  },
  {
   "cell_type": "code",
   "execution_count": 17,
   "metadata": {},
   "outputs": [
    {
     "name": "stdout",
     "output_type": "stream",
     "text": [
      "1\n",
      "2\n",
      "4\n",
      "8\n",
      "16\n",
      "32\n",
      "64\n",
      "128\n"
     ]
    },
    {
     "data": {
      "image/png": "[encoded data removed]",
      "text/plain": [
       "<Figure size 432x288 with 1 Axes>"
      ]
     },
     "metadata": {
      "needs_background": "light"
     },
     "output_type": "display_data"
    }
   ],
   "source": [
    "max_depths = [1, 2, 4, 8, 16, 32, 64, 128]\n",
    "\n",
    "train_results=[]\n",
    "test_results=[]\n",
    "for max_depth in max_depths :\n",
    "    classifier= classify(X_train, X_test, y_train, y_test,max_depth=max_depth)\n",
    "    train_predictions  =  classifier.predict(X_train)\n",
    "    roc_auc_tr= get_auc(train_predictions, y_train)\n",
    "    train_results.append(roc_auc_tr)\n",
    "    \n",
    "    validation_predictions = classifier.predict(X_test)\n",
    "    roc_auc_test = get_auc(validation_predictions,y_test)\n",
    "    test_results.append(roc_auc_test)\n",
    "\n",
    "    print(max_depth)\n",
    "\n",
    "line1, = plt.plot(max_depths, train_results, 'b', label='Train AUC')\n",
    "line2, = plt.plot(max_depths, test_results, 'r', label='Validation AUC')\n",
    "plt.legend(handler_map={line1: HandlerLine2D(numpoints=2)})\n",
    "plt.ylabel('AUC score')\n",
    "plt.xlabel('max_depths')\n",
    "plt.show()"
   ]
  },
  {
   "cell_type": "markdown",
   "metadata": {},
   "source": [
    "<h2> Tune Min Number of Sample in a Leaf</h2>"
   ]
  },
  {
   "cell_type": "code",
   "execution_count": 18,
   "metadata": {},
   "outputs": [
    {
     "name": "stdout",
     "output_type": "stream",
     "text": [
      "[10, 50, 100, 200, 500, 1000]\n",
      "[10, 50, 100, 200, 500, 1000]\n",
      "[10, 50, 100, 200, 500, 1000]\n",
      "[10, 50, 100, 200, 500, 1000]\n",
      "[10, 50, 100, 200, 500, 1000]\n",
      "[10, 50, 100, 200, 500, 1000]\n"
     ]
    },
    {
     "data": {
      "image/png": "[encoded data removed]",
      "text/plain": [
       "<Figure size 432x288 with 1 Axes>"
      ]
     },
     "metadata": {
      "needs_background": "light"
     },
     "output_type": "display_data"
    }
   ],
   "source": [
    "min_samples_leafs = [10, 50, 100, 200, 500, 1000]\n",
    "\n",
    "train_results=[]\n",
    "test_results=[]\n",
    "for min_samples_leaf in min_samples_leafs :\n",
    "    classifier= classify(X_train, X_test, y_train, y_test,min_samples_leaf=min_samples_leaf )\n",
    "    train_predictions  =  classifier.predict(X_train)\n",
    "    roc_auc_tr= get_auc(train_predictions, y_train)\n",
    "    train_results.append(roc_auc_tr)\n",
    "    \n",
    "    validation_predictions = classifier.predict(X_test)\n",
    "    roc_auc_test = get_auc(validation_predictions, y_test)\n",
    "    test_results.append(roc_auc_test)\n",
    "    \n",
    "    print(min_samples_leaf)\n",
    "line1, = plt.plot(min_samples_leafs, train_results, 'b', label='Train AUC')\n",
    "line2, = plt.plot(min_samples_leafs, test_results, 'r', label='Validation AUC')\n",
    "plt.legend(handler_map={line1: HandlerLine2D(numpoints=2)})\n",
    "plt.ylabel('AUC score')\n",
    "plt.xlabel('min_samples_leafs')\n",
    "plt.show()"
   ]
  },
  {
   "cell_type": "markdown",
   "metadata": {},
   "source": [
    "<h2> Max Features Used in a Tree</h2>"
   ]
  },
  {
   "cell_type": "code",
   "execution_count": 20,
   "metadata": {},
   "outputs": [
    {
     "name": "stdout",
     "output_type": "stream",
     "text": [
      "10\n",
      "25\n",
      "50\n",
      "75\n",
      "100\n",
      "150\n",
      "200\n",
      "auto\n"
     ]
    },
    {
     "data": {
      "image/png": "[encoded data removed]",
      "text/plain": [
       "<Figure size 432x288 with 1 Axes>"
      ]
     },
     "metadata": {
      "needs_background": "light"
     },
     "output_type": "display_data"
    }
   ],
   "source": [
    "max_features_list= [10,25, 50, 75, 100, 150, 200, 'auto']\n",
    "train_results=[]\n",
    "test_results=[]\n",
    "for max_features in max_features_list :\n",
    "    classifier= classify(X_train, X_test, y_train, y_test,max_features=max_features)\n",
    "    train_predictions  =  classifier.predict(X_train)\n",
    "    roc_auc_tr= get_auc(train_predictions, y_train)\n",
    "    train_results.append(roc_auc_tr)\n",
    "    \n",
    "    validation_predictions = classifier.predict(X_test)\n",
    "    roc_auc_test = get_auc(validation_predictions, y_test)\n",
    "    test_results.append(roc_auc_test)\n",
    "    print(max_features)\n",
    "    \n",
    "line1, = plt.plot(max_features_list, train_results, 'b', label='Train AUC')\n",
    "line2, = plt.plot(max_features_list, test_results, 'r', label='Validation AUC')\n",
    "plt.legend(handler_map={line1: HandlerLine2D(numpoints=2)})\n",
    "plt.ylabel('AUC score')\n",
    "plt.xlabel('max_features')\n",
    "plt.show()\n"
   ]
  }
 ],
 "metadata": {
  "kernelspec": {
   "display_name": "Python 3",
   "language": "python",
   "name": "python3"
  },
  "language_info": {
   "codemirror_mode": {
    "name": "ipython",
    "version": 3
   },
   "file_extension": ".py",
   "mimetype": "text/x-python",
   "name": "python",
   "nbconvert_exporter": "python",
   "pygments_lexer": "ipython3",
   "version": "3.7.1"
  }
 },
 "nbformat": 4,
 "nbformat_minor": 2
}
